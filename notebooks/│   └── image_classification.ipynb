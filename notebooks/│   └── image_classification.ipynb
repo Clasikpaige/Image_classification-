It appears that the notebook contains a mix of Markdown and code cells, but the code cells are not properly formatted or enclosed within code blocks. To fix the issue, we need to ensure that all code cells are enclosed within triple backticks (```) to indicate code blocks. 

Let's format the notebook correctly:

---

# Image Classification with Convolutional Neural Networks

Hey there! In this notebook, we'll dive into building a powerful Convolutional Neural Network (CNN) for image classification using PyTorch. Our task is to classify images from the CIFAR-10 dataset, which contains 60,000 32x32 color images in 10 different classes such as airplane, automobile, bird, cat, deer, dog, frog, horse, ship, and truck.

Let's get started!

## 1. Importing Libraries

We start by importing the necessary libraries. PyTorch will handle the heavy lifting for building and training our CNN, and torchvision will help with managing datasets. We'll also use Matplotlib for visualization.

```python
import torch
import torch.nn as nn
import torch.optim as optim
import torchvision
import torchvision.transforms as transforms
import matplotlib.pyplot as plt
```

## 2. Loading and Preprocessing Data

Now, let's load the CIFAR-10 dataset and apply some preprocessing transformations to get our data ready for training.

```python
transform = transforms.Compose([
    transforms.RandomHorizontalFlip(),
    transforms.RandomRotation(10),
    transforms.ToTensor(),
    transforms.Normalize((0.5, 0.5, 0.5), (0.5, 0.5, 0.5))
])

trainset = torchvision.datasets.CIFAR10(root='./data', train=True, download=True, transform=transform)
trainloader = torch.utils.data.DataLoader(trainset, batch_size=64, shuffle=True, num_workers=2)

testset = torchvision.datasets.CIFAR10(root='./data', train=False, download=True, transform=transform)
testloader = torch.utils.data.DataLoader(testset, batch_size=64, shuffle=False, num_workers=2)
```

## 3. Defining the CNN Model

We define the CNN model with convolutional layers, max pooling layers, and fully connected layers.

```python
class AdvancedCNN(nn.Module):
    def __init__(self):
        super(AdvancedCNN, self).__init__()
        self.conv1 = nn.Conv2d(3, 32, 3, padding=1)
        self.conv2 = nn.Conv2d(32, 64, 3, padding=1)
        self.conv3 = nn.Conv2d(64, 128, 3, padding=1)
        self.conv4 = nn.Conv2d(128, 256, 3, padding=1)
        self.pool = nn.MaxPool2d(2, 2)
        self.dropout = nn.Dropout(0.5)
        self.fc1 = nn.Linear(256 * 4 * 4, 512)
        self.fc2 = nn.Linear(512, 256)
        self.fc3 = nn.Linear(256, 10)

    def forward(self, x):
        x = self.pool(F.relu(self.conv1(x)))
        x = self.pool(F.relu(self.conv2(x)))
        x = self.pool(F.relu(self.conv3(x)))
        x = self.pool(F.relu(self.conv4(x)))
        x = x.view(-1, 256 * 4 * 4)
        x = self.dropout(F.relu(self.fc1(x)))
        x = self.dropout(F.relu(self.fc2(x)))
        x = self.fc3(x)
        return x

net = AdvancedCNN()
```

## 4. Setting up Loss Function and Optimizer

We'll use the Cross-Entropy Loss function and the Adam optimizer for training our model.

```python
criterion = nn.CrossEntropyLoss()
optimizer = optim.Adam(net.parameters(), lr=0.001)
```

## 5. Training the Model

Now, let's train our CNN model using the training data. We'll loop through the dataset for multiple epochs and update the model parameters using backpropagation.

```python
for epoch in range(10):  # train for more epochs

    running_loss = 0.0
    for i, data in enumerate(trainloader, 0):
        inputs, labels = data

        optimizer.zero_grad()

        outputs = net(inputs)
        loss = criterion(outputs, labels)
        loss.backward()
        optimizer.step()

        running_loss += loss.item()
        if i % 100 == 99:  # print every 100 mini-batches
            print('[%d, %5d] loss: %.3f' %
                  (epoch + 1, i + 1, running_loss / 100))
            running_loss = 0.0

print('Finished Training')
```

## 6. Evaluating the Model

Once the training is done, we'll evaluate the performance of our model on the test data to see how well it generalizes.

```python
correct = 0
total = 0
with torch.no_grad():
    for data in testloader:
        images, labels = data
        outputs = net(images)
        _, predicted = torch.max(outputs.data, 1)
        total += labels.size(0)
        correct += (predicted == labels).sum().item()

print('Accuracy of the network on the 10000 test images: %d %%' % (100 * correct / total))
```

Conclusion

In this notebook, we implemented a simple CNN model for image classification using PyTorch. We trained the model on the CIFAR-10 dataset and evaluated its performance
